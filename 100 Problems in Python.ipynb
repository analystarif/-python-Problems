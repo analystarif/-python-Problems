{
 "cells": [
  {
   "cell_type": "code",
   "execution_count": 1,
   "id": "75bc14a1",
   "metadata": {},
   "outputs": [
    {
     "name": "stdout",
     "output_type": "stream",
     "text": [
      "2002,2009,2016,2023,2037,2044,2051,2058,2072,2079,2086,2093,2107,2114,2121,2128,2142,2149,2156,2163,2177,2184,2191,2198,2212,2219,2226,2233,2247,2254,2261,2268,2282,2289,2296,2303,2317,2324,2331,2338,2352,2359,2366,2373,2387,2394,2401,2408,2422,2429,2436,2443,2457,2464,2471,2478,2492,2499,2506,2513,2527,2534,2541,2548,2562,2569,2576,2583,2597,2604,2611,2618,2632,2639,2646,2653,2667,2674,2681,2688,2702,2709,2716,2723,2737,2744,2751,2758,2772,2779,2786,2793,2807,2814,2821,2828,2842,2849,2856,2863,2877,2884,2891,2898,2912,2919,2926,2933,2947,2954,2961,2968,2982,2989,2996,3003,3017,3024,3031,3038,3052,3059,3066,3073,3087,3094,3101,3108,3122,3129,3136,3143,3157,3164,3171,3178,3192,3199,"
     ]
    }
   ],
   "source": [
    "'''1. Write a program which will find all such numbers which are divisible by 7 but are not a multiple of 5, \n",
    "between 2000 and 3200 (both included). The numbers obtained should be printed in a comma-separated sequence on a single \n",
    "line. []\n",
    "Hints: Consider use range(#begin, #end) method \n",
    "'''\n",
    "for i in range(2000,3201):\n",
    "    if i%7==0 and i%5!=0:\n",
    "        print(i,end=\",\")"
   ]
  },
  {
   "cell_type": "code",
   "execution_count": null,
   "id": "eebd9a22",
   "metadata": {},
   "outputs": [],
   "source": [
    "'''2. Write a program which can compute the factorial of a given numbers. The results should be printed in a\n",
    "comma-separated sequence on a single line. \n",
    "Suppose the input is supplied to the program: 8 \n",
    "Then, the output should be: 40320 \n",
    "Hints: In case of input data being supplied to the question, it should be assumed to be a console input. \n",
    "'''\n",
    "\n",
    "n=int(input('please entr num'))\n",
    "fact=1\n",
    "for i in range(1,n+1):\n",
    "    fact=fact*i\n",
    "    print(fact,end=',')"
   ]
  },
  {
   "cell_type": "code",
   "execution_count": null,
   "id": "d5659401",
   "metadata": {},
   "outputs": [],
   "source": [
    "'''\n",
    "3. With a given integral number n, write a program to generate a dictionary that contains (i, i*i)\n",
    "such that is an integral number between 1 and n (both included) and then the program should print the dictionary. \n",
    "Suppose the input is supplied to the program: 8 \n",
    "Then, the output should be: {1: 1, 2: 4, 3: 9, 4: 16, 5: 25, 6: 36, 7: 49, 8: 64} \n",
    "Hints: In case of input data being supplied to the question, it should be assumed to be a console input. \n",
    "Consider use dict() \n",
    "\n",
    "'''\n",
    "dict={}\n",
    "\n",
    "n=int(input('entr the num'))\n",
    "for i in range(1,n+1):\n",
    "    dict[i]=i*i\n",
    "dict"
   ]
  },
  {
   "cell_type": "code",
   "execution_count": null,
   "id": "651cd4b5",
   "metadata": {},
   "outputs": [],
   "source": [
    "'''\n",
    "4. Write a program which accepts a sequence of comma-separated numbers from console and generate a list and a \n",
    "tuple which contains every number. \n",
    "Suppose the input is supplied to the program: 34, 67, 55, 33, 12, 98 \n",
    "Then, the output should be: \n",
    "['34', '67', '55', '33', '12', '98'] \n",
    "('34', '67', '55', '33', '12', '98') \n",
    "Hints: In case of input data being supplied to the question, it should be assumed to be a console input.\n",
    "tuple() method can convert list to tuple \n",
    "\n",
    "'''\n",
    "#n=input('entr the num'))\n",
    "\n",
    "#l=[n]\n",
    "#print(l)\n",
    "#type(l)\n",
    "\n",
    "'''n=input('entr the num')\n",
    "l=[]\n",
    "for i in n:\n",
    "    l.append(i)\n",
    "print(l)'''\n",
    "    \n",
    "n=input('entr the num').split(sep=',')\n",
    "l=[]\n",
    "for i in n:\n",
    "    l.append(i)\n",
    "     \n",
    "print(l)\n",
    "t=tuple(l)\n",
    "print(t)\n",
    "type(t)\n",
    "\n"
   ]
  },
  {
   "cell_type": "code",
   "execution_count": null,
   "id": "74e83c85",
   "metadata": {},
   "outputs": [],
   "source": [
    "'''\n",
    "5. Define a class which has at least two methods: \n",
    "getString: to get a string from console input \n",
    "printString: to print the string in upper case. \n",
    "Also please include simple test function to test the class methods. \n",
    "Hints: Use __init__ method to construct some parameters \n",
    "'''\n",
    "\n",
    "class string:\n",
    "    def __init__(self,s):\n",
    "        self.s=s\n",
    "    def getstring(self):\n",
    "        print(f'{self.s}')\n",
    "    def printstring(self):\n",
    "        g=self.s.upper()\n",
    "        print(g)\n",
    "        \n",
    "        \n",
    "c=string(input('enter num')) \n",
    "c.getstring()\n",
    "c.printstring()\n"
   ]
  },
  {
   "cell_type": "code",
   "execution_count": null,
   "id": "7a24156c",
   "metadata": {},
   "outputs": [],
   "source": [
    "'''\n",
    "6. Write a program that calculates and prints the value according to the given formula: \n",
    "Q = Square root of [(2 * C * D)/H] \n",
    "Following are the fixed values of C and H: C is 50. H is 30. \n",
    "D is the variable whose values should be input to your program in a comma-separated sequence. \n",
    "Let us assume the following comma separated input sequence is given to the program: 100,150,180 \n",
    "The output of the program should be: 18, 22, 24 \n",
    "Hints: If the output received is in decimal form, it should be rounded off to its nearest value \n",
    "(for example, if the output received is 26.0, it should be printed as 26) \n",
    "\n",
    "'''\n",
    "\n",
    "D=float(input('enter the value of D'))\n",
    "\n",
    "C=50\n",
    "H=30\n",
    "Q = (2 * C * D)/H\n",
    "print(round(Q))"
   ]
  },
  {
   "cell_type": "code",
   "execution_count": null,
   "id": "8062efdf",
   "metadata": {},
   "outputs": [],
   "source": [
    "'''\n",
    "7. Write a program which takes 2 digits, X,Y as input and generates a 2-dimensional array. The element value in \n",
    "the i-th row and j-th column of the array should be i*j. \n",
    "Note: i=0,1.., X-1; j=0,1,¡Y-1. \n",
    "Suppose the following inputs are given to the program: 3, 5 \n",
    "Then, the output of the program should be: [[0, 0, 0, 0, 0], [0, 1, 2, 3, 4], [0, 2, 4, 6, 8]] \n",
    "Hints: In case of input data being supplied to the question, it should be assumed to be a console input in a \n",
    "comma-separated form.\n",
    "'''\n",
    "x=input('enter the row number').split(',')\n",
    "a=x[0]\n",
    "b=x[1]\n",
    "a1=int(float(a))\n",
    "b2=int(float(b))\n",
    "\n",
    "from numpy import random as rd\n",
    "\n",
    "arr=rd.randint(2,20,(a1,b2))\n",
    "print(arr)"
   ]
  },
  {
   "cell_type": "code",
   "execution_count": null,
   "id": "c2977397",
   "metadata": {},
   "outputs": [],
   "source": [
    "'''8. Write a program that accepts a comma separated sequence of words as input and prints the words\n",
    "in a comma-separated sequence after sorting them alphabetically. \n",
    "\n",
    "Suppose the input is supplied to the program: without, hello, bag, world \n",
    "Then, the output should be: bag, hello, without, world \n",
    "Hints: In case of input data being supplied to the question, it should be assumed to be a console input. \n",
    "'''\n",
    "s=input('enter the words').split()\n",
    "s.sort()\n",
    "for i in s:\n",
    "    print(i)"
   ]
  },
  {
   "cell_type": "code",
   "execution_count": null,
   "id": "4598fade",
   "metadata": {},
   "outputs": [],
   "source": [
    "'''\n",
    "9. Write a program that accepts sequence of lines as input and prints the lines after making all characters \n",
    "in the sentence capitalized.\n",
    "\n",
    "Suppose the input is supplied to the program: Hello world \n",
    "Practice makes perfect \n",
    "Then, the output should be: HELLO WORLD \n",
    "PRACTICE MAKES PERFECT \n",
    "Hints: In case of input data being supplied to the question, it should be assumed to be a console input. \n",
    "'''\n",
    "\n",
    "s=input('enter the words')\n",
    "print(s.upper())\n"
   ]
  },
  {
   "cell_type": "code",
   "execution_count": null,
   "id": "c768bc1b",
   "metadata": {},
   "outputs": [],
   "source": [
    "'''\n",
    "10. Write a program that accepts a sequence of whitespace separated words as input and prints the words after removing \n",
    "all duplicate words and sorting them alphanumerically. \n",
    "Suppose the input is supplied to the program: hello world and practice makes perfect and hello world again \n",
    "Then, the output should be: again and hello makes perfect practice world \n",
    "Hints: In case of input data being supplied to the question, it should be assumed to be a console input. We use set \n",
    "container to remove duplicated data automatically and then use sorted() to sort the data.\n",
    "'''\n",
    "\n",
    "word=input('enter the word').split()\n",
    "\n",
    "s=set(word)\n",
    "\n",
    "l=list(s)\n",
    "l.sort()\n",
    "for i in l:\n",
    "    print(i,end=' ')"
   ]
  },
  {
   "cell_type": "code",
   "execution_count": null,
   "id": "eed6a2f2",
   "metadata": {},
   "outputs": [],
   "source": [
    "'''\n",
    "11. Write a program which accepts a sequence of comma separated 4 digit binary numbers as its input and then \n",
    "check whether they are divisible by 5 or not. The numbers that are divisible by 5 are to be printed in a\n",
    "comma separated sequence. \n",
    "Suppose the input is supplied to the program: 0100,0011,1010,1001 \n",
    "Then the output should be: 1010 \n",
    "Notes: Assume the data is input by console. \n",
    "Hints: In case of input data being supplied to the question, it should be assumed to be a console input.\n",
    "'''\n",
    "\n",
    "i=input('plese enter the value').split(',')\n",
    "print(i)  \n",
    "\n",
    "for x in i:\n",
    "    a=int(x)\n",
    "    if a%5==0:\n",
    "        print(a,end=',')\n",
    "#print(d,end='')"
   ]
  },
  {
   "cell_type": "code",
   "execution_count": 5,
   "id": "9d30e910",
   "metadata": {},
   "outputs": [
    {
     "name": "stdout",
     "output_type": "stream",
     "text": [
      "1000,1002,1004,1006,1008,1010,1012,1014,1016,1018,1020,1022,1024,1026,1028,1030,1032,1034,1036,1038,1040,1042,1044,1046,1048,1050,1052,1054,1056,1058,1060,1062,1064,1066,1068,1070,1072,1074,1076,1078,1080,1082,1084,1086,1088,1090,1092,1094,1096,1098,1100,1102,1104,1106,1108,1110,1112,1114,1116,1118,1120,1122,1124,1126,1128,1130,1132,1134,1136,1138,1140,1142,1144,1146,1148,1150,1152,1154,1156,1158,1160,1162,1164,1166,1168,1170,1172,1174,1176,1178,1180,1182,1184,1186,1188,1190,1192,1194,1196,1198,1200,1202,1204,1206,1208,1210,1212,1214,1216,1218,1220,1222,1224,1226,1228,1230,1232,1234,1236,1238,1240,1242,1244,1246,1248,1250,1252,1254,1256,1258,1260,1262,1264,1266,1268,1270,1272,1274,1276,1278,1280,1282,1284,1286,1288,1290,1292,1294,1296,1298,1300,1302,1304,1306,1308,1310,1312,1314,1316,1318,1320,1322,1324,1326,1328,1330,1332,1334,1336,1338,1340,1342,1344,1346,1348,1350,1352,1354,1356,1358,1360,1362,1364,1366,1368,1370,1372,1374,1376,1378,1380,1382,1384,1386,1388,1390,1392,1394,1396,1398,1400,1402,1404,1406,1408,1410,1412,1414,1416,1418,1420,1422,1424,1426,1428,1430,1432,1434,1436,1438,1440,1442,1444,1446,1448,1450,1452,1454,1456,1458,1460,1462,1464,1466,1468,1470,1472,1474,1476,1478,1480,1482,1484,1486,1488,1490,1492,1494,1496,1498,1500,1502,1504,1506,1508,1510,1512,1514,1516,1518,1520,1522,1524,1526,1528,1530,1532,1534,1536,1538,1540,1542,1544,1546,1548,1550,1552,1554,1556,1558,1560,1562,1564,1566,1568,1570,1572,1574,1576,1578,1580,1582,1584,1586,1588,1590,1592,1594,1596,1598,1600,1602,1604,1606,1608,1610,1612,1614,1616,1618,1620,1622,1624,1626,1628,1630,1632,1634,1636,1638,1640,1642,1644,1646,1648,1650,1652,1654,1656,1658,1660,1662,1664,1666,1668,1670,1672,1674,1676,1678,1680,1682,1684,1686,1688,1690,1692,1694,1696,1698,1700,1702,1704,1706,1708,1710,1712,1714,1716,1718,1720,1722,1724,1726,1728,1730,1732,1734,1736,1738,1740,1742,1744,1746,1748,1750,1752,1754,1756,1758,1760,1762,1764,1766,1768,1770,1772,1774,1776,1778,1780,1782,1784,1786,1788,1790,1792,1794,1796,1798,1800,1802,1804,1806,1808,1810,1812,1814,1816,1818,1820,1822,1824,1826,1828,1830,1832,1834,1836,1838,1840,1842,1844,1846,1848,1850,1852,1854,1856,1858,1860,1862,1864,1866,1868,1870,1872,1874,1876,1878,1880,1882,1884,1886,1888,1890,1892,1894,1896,1898,1900,1902,1904,1906,1908,1910,1912,1914,1916,1918,1920,1922,1924,1926,1928,1930,1932,1934,1936,1938,1940,1942,1944,1946,1948,1950,1952,1954,1956,1958,1960,1962,1964,1966,1968,1970,1972,1974,1976,1978,1980,1982,1984,1986,1988,1990,1992,1994,1996,1998,2000,2002,2004,2006,2008,2010,2012,2014,2016,2018,2020,2022,2024,2026,2028,2030,2032,2034,2036,2038,2040,2042,2044,2046,2048,2050,2052,2054,2056,2058,2060,2062,2064,2066,2068,2070,2072,2074,2076,2078,2080,2082,2084,2086,2088,2090,2092,2094,2096,2098,2100,2102,2104,2106,2108,2110,2112,2114,2116,2118,2120,2122,2124,2126,2128,2130,2132,2134,2136,2138,2140,2142,2144,2146,2148,2150,2152,2154,2156,2158,2160,2162,2164,2166,2168,2170,2172,2174,2176,2178,2180,2182,2184,2186,2188,2190,2192,2194,2196,2198,2200,2202,2204,2206,2208,2210,2212,2214,2216,2218,2220,2222,2224,2226,2228,2230,2232,2234,2236,2238,2240,2242,2244,2246,2248,2250,2252,2254,2256,2258,2260,2262,2264,2266,2268,2270,2272,2274,2276,2278,2280,2282,2284,2286,2288,2290,2292,2294,2296,2298,2300,2302,2304,2306,2308,2310,2312,2314,2316,2318,2320,2322,2324,2326,2328,2330,2332,2334,2336,2338,2340,2342,2344,2346,2348,2350,2352,2354,2356,2358,2360,2362,2364,2366,2368,2370,2372,2374,2376,2378,2380,2382,2384,2386,2388,2390,2392,2394,2396,2398,2400,2402,2404,2406,2408,2410,2412,2414,2416,2418,2420,2422,2424,2426,2428,2430,2432,2434,2436,2438,2440,2442,2444,2446,2448,2450,2452,2454,2456,2458,2460,2462,2464,2466,2468,2470,2472,2474,2476,2478,2480,2482,2484,2486,2488,2490,2492,2494,2496,2498,2500,2502,2504,2506,2508,2510,2512,2514,2516,2518,2520,2522,2524,2526,2528,2530,2532,2534,2536,2538,2540,2542,2544,2546,2548,2550,2552,2554,2556,2558,2560,2562,2564,2566,2568,2570,2572,2574,2576,2578,2580,2582,2584,2586,2588,2590,2592,2594,2596,2598,2600,2602,2604,2606,2608,2610,2612,2614,2616,2618,2620,2622,2624,2626,2628,2630,2632,2634,2636,2638,2640,2642,2644,2646,2648,2650,2652,2654,2656,2658,2660,2662,2664,2666,2668,2670,2672,2674,2676,2678,2680,2682,2684,2686,2688,2690,2692,2694,2696,2698,2700,2702,2704,2706,2708,2710,2712,2714,2716,2718,2720,2722,2724,2726,2728,2730,2732,2734,2736,2738,2740,2742,2744,2746,2748,2750,2752,2754,2756,2758,2760,2762,2764,2766,2768,2770,2772,2774,2776,2778,2780,2782,2784,2786,2788,2790,2792,2794,2796,2798,2800,2802,2804,2806,2808,2810,2812,2814,2816,2818,2820,2822,2824,2826,2828,2830,2832,2834,2836,2838,2840,2842,2844,2846,2848,2850,2852,2854,2856,2858,2860,2862,2864,2866,2868,2870,2872,2874,2876,2878,2880,2882,2884,2886,2888,2890,2892,2894,2896,2898,2900,2902,2904,2906,2908,2910,2912,2914,2916,2918,2920,2922,2924,2926,2928,2930,2932,2934,2936,2938,2940,2942,2944,2946,2948,2950,2952,2954,2956,2958,2960,2962,2964,2966,2968,2970,2972,2974,2976,2978,2980,2982,2984,2986,2988,2990,2992,2994,2996,2998,3000,"
     ]
    }
   ],
   "source": [
    "'''\n",
    "12. Write a program, which will find all such numbers between 1000 and 3000 (both included) such that each digit \n",
    "of the number is an even number. \n",
    "The numbers obtained should be printed in a comma-separated sequence on a single line. \n",
    "Hints: In case of input data being supplied to the question, it should be assumed to be a console input. \n",
    "'''\n",
    "\n",
    "for i in range(1000,3001):\n",
    "    if i%2==0:\n",
    "        print(i,end=',')"
   ]
  },
  {
   "cell_type": "code",
   "execution_count": null,
   "id": "825b86df",
   "metadata": {},
   "outputs": [],
   "source": [
    "'''\n",
    "13. Write a program that accepts a sentence and calculate the number of letters and digits. \n",
    "Suppose the input is supplied to the program: hello world! 123 \n",
    "Then, the output should be: LETTERS 10\n",
    "\n",
    "DIGITS 3 \n",
    "Hints: In case of input data being supplied to the question, it should be assumed to be a console input. \n",
    "'''\n",
    "\n",
    "s=input('please enter the value')\n",
    "a=0\n",
    "d=0\n",
    "for i in s:\n",
    "    if i.isalpha():\n",
    "        a=a+1\n",
    "    elif i.isdigit():\n",
    "        d=d+1\n",
    "        \n",
    "print('letters=',a,'digit=',d)\n"
   ]
  },
  {
   "cell_type": "code",
   "execution_count": null,
   "id": "421d3720",
   "metadata": {},
   "outputs": [],
   "source": [
    "'''\n",
    "14. Write a program that accepts a sentence and calculate the number of upper case letters and lower case letters. \n",
    "Suppose the input is supplied to the program: Hello world! \n",
    "Then, the output should be: UPPER CASE 1 \n",
    "LOWER CASE 9 \n",
    "Hints: In case of input data being supplied to the question, it should be assumed to be a console input. \n",
    "\n",
    "'''\n",
    "s=input('please enter the value')\n",
    "c=0\n",
    "l=0\n",
    "for i in s:\n",
    "    if i.isupper():\n",
    "        c=c+1\n",
    "    elif i.islower():\n",
    "        l=l+1\n",
    "        \n",
    "print('upper=',c,'lower=',l)\n"
   ]
  },
  {
   "cell_type": "code",
   "execution_count": null,
   "id": "bf888a87",
   "metadata": {},
   "outputs": [],
   "source": [
    "'''\n",
    "15. Write a program that computes the value of a+aa+aaa+aaaa with a given digit as the value of a. \n",
    "Suppose the input is supplied to the program: 9 \n",
    "Then, the output should be: 11106 \n",
    "Hints: In case of input data being supplied to the question, it should be assumed to be a console input. \n",
    "'''\n",
    "\n",
    "n=int(input('please enter the value'))\n",
    "r=n+n*11+n*111+n*1111\n",
    "print(r)\n"
   ]
  },
  {
   "cell_type": "code",
   "execution_count": null,
   "id": "432de9f3",
   "metadata": {},
   "outputs": [],
   "source": [
    "'''\n",
    "16. Use a list comprehension to square each odd number in a list. The list is input by a sequence of \n",
    "comma-separated numbers. \n",
    "Suppose the input is supplied to the program: 1,2,3,4,5,6,7,8,9 \n",
    "Then, the output should be: 1, 3, 5, 7, 9 \n",
    "Hints: In case of input data being supplied to the question, it should be assumed to be a console input. \n",
    "'''\n",
    "n=input('please enter the value').split(',')\n",
    "#print(n)\n",
    "for i in n:\n",
    "    #x=int(i)\n",
    "    if x%2!=0:\n",
    "        print(x**2)"
   ]
  },
  {
   "cell_type": "code",
   "execution_count": null,
   "id": "8a38a6ad",
   "metadata": {},
   "outputs": [],
   "source": [
    "'''\n",
    "17. Write a program that computes the net amount of a bank account based a transaction log from console input. \n",
    "The transaction log format is shown as following: \n",
    "D 100 \n",
    "W 200 \n",
    "--D means deposit while W means withdrawal. \n",
    "Suppose the input is supplied to the program: \n",
    "D 300\n",
    "\n",
    "D 300 \n",
    "W 200 \n",
    "D 100 \n",
    "Then, the output should be: 500 \n",
    "Hints: In case of input data being supplied to the question, it should be assumed to be a console input. \n",
    "\n",
    "'''\n",
    "\n",
    "w=int(input('plz enter the withdrawal amount'))\n",
    "d=int(input('plz enter the deposit amount'))\n",
    "\n",
    "t_amount=d-w\n",
    "print(t_amount)\n"
   ]
  },
  {
   "cell_type": "code",
   "execution_count": null,
   "id": "a4171626",
   "metadata": {},
   "outputs": [],
   "source": [
    "'''\n",
    "18. A website requires the users to input username and password to register. Write a program to check the validity \n",
    "of password input by users. \n",
    "Following are the criteria for checking the password: \n",
    "1. At least 1 letter between [a-z] \n",
    "2. At least 1 number between [0-9] \n",
    "1. At least 1 letter between [A-Z] \n",
    "3. At least 1 character from [$#@] \n",
    "4. Minimum length of transaction password: 6 \n",
    "5. Maximum length of transaction password: 12 \n",
    "Your program should accept a sequence of comma separated passwords and will check them according to the above criteria.\n",
    "Passwords that match the criteria are to be printed, each separated by a comma. \n",
    "If the following passwords are given as input to the program: ABd1234@1,a F1#,2w3E*,2We3345 \n",
    "Then, the output of the program should be: ABd1234@1 \n",
    "Hints: In case of input data being supplied to the question, it should be assumed to be a console input. \n",
    "\n",
    "'''\n",
    "p = input(\"Enter value: \")\n",
    "\n",
    "l,d,u,sp=0,0,0,0\n",
    "\n",
    "for i in p:\n",
    "    if i.islower():\n",
    "        l=l+1\n",
    "    elif i.isdigit():\n",
    "        d=d+1\n",
    "    elif i.isupper():\n",
    "        u=u+1\n",
    "    else:\n",
    "        sp=sp+1\n",
    "        \n",
    "print(l,d,u,sp) \n",
    "\n",
    "if l>0 and d>0 and u>0 and sp>0 and len(p)>=6 and len(p)<12:\n",
    "    print('correct password')\n",
    "else:\n",
    "    print('incorrect password')\n"
   ]
  },
  {
   "cell_type": "code",
   "execution_count": null,
   "id": "c3315695",
   "metadata": {},
   "outputs": [],
   "source": [
    "# wap to check the number is having factors more than 3. from 45 to 56 and count the number\n",
    "d,e=0,0\n",
    "for i in range(45,56):\n",
    "    c=0\n",
    "    for j in range(1,i+1):\n",
    "        if i%j==0:\n",
    "            c=c+1\n",
    "    if c>3:\n",
    "        d=d+1\n",
    "        print(i,\"more than 3 factors\")\n",
    "    else: \n",
    "        e=e+1\n",
    "        print(i,\"less factors\")\n",
    "print(d, \"\")\n",
    "print(e,\"\")"
   ]
  },
  {
   "cell_type": "code",
   "execution_count": null,
   "id": "e454955f",
   "metadata": {},
   "outputs": [],
   "source": [
    "'''wap to input size of ram, harddisk and core of your system if the ram is 4 ,hdd is 500 and core is i5 or \n",
    "greater than print we can work on it. if ram is lesser than 4, ask the user to increase it by the multiples of 2 .\n",
    "if  the hdd is lesser than 500 , then ask the user to install sdd, and if the core is lesser than 5, ask the user\n",
    "to change the system\n",
    "'''\n",
    "\n",
    "\n",
    "\n",
    "ram=int(input(\"enter the size of ram\"))\n",
    "if ram<=4:\n",
    "    hdd=int(input(\"enter the size of hdd\"))\n",
    "    if hdd>500:\n",
    "        core=int(input(\"enter the core\"))\n",
    "        \n",
    "        if core<=5:\n",
    "            print(\"change the system\")\n",
    "    else: \n",
    "        print(\"install sdd lesser than 500\")\n",
    "else: \n",
    "    print(\"we can work\")\n",
    "    \n",
    "    \n",
    "    \n",
    "   "
   ]
  },
  {
   "cell_type": "code",
   "execution_count": null,
   "id": "861d83ad",
   "metadata": {},
   "outputs": [],
   "source": [
    "'''wap to find only the strings in the following list and if the element is float or int, check for even and odd,\n",
    "if the element is float or int, check for even and odd, if the element is even sqaure it and if the element is odd\n",
    "cube it\n",
    "\n",
    "l=[[\"the\",23,44],[56,\"python\",90],[123,True,\"is\"],[67,\"fun\",33]] \n",
    "'''\n",
    "\n",
    "l=[[\"the\",23,44],[56,\"python\",90],[123,True,\"is\"],[67,\"fun\",33]] \n",
    "\n",
    "for i in l:\n",
    "    for j in i:\n",
    "        if type(j)==str:\n",
    "            print(j)\n",
    "        elif type(j)==int or type(j)==float:\n",
    "            if j%2==0:\n",
    "                print(j,\"is even\",'sqare is: ',j**2)\n",
    "                \n",
    "            else:\n",
    "                print(j,\"is odd\", 'cube is :' ,j**3)\n",
    "            \n",
    "        #elif type(j)==float:\n",
    "            #print(j, ' is float')\n"
   ]
  },
  {
   "cell_type": "code",
   "execution_count": null,
   "id": "051523f2",
   "metadata": {},
   "outputs": [],
   "source": [
    "l=[[\"the\",23,44],[56,\"python\",90],[123,True,\"is\"],[67,\"fun\",33]]\n",
    "for i in l:\n",
    "    for j in i:\n",
    "        if type(j)==str:\n",
    "            print(j)"
   ]
  },
  {
   "cell_type": "code",
   "execution_count": null,
   "id": "953bc8d9",
   "metadata": {},
   "outputs": [],
   "source": [
    "n=int(input(\"enter the number\"))\n",
    "c=0\n",
    "for i in range(1,n+1):\n",
    "     if n%i==0:\n",
    "        c=c+1\n",
    "if c>3:\n",
    "    print(n,', more than 3 factors')\n",
    "else:\n",
    "    print(n,\", less than 3 factor\")"
   ]
  },
  {
   "cell_type": "code",
   "execution_count": null,
   "id": "f4110468",
   "metadata": {},
   "outputs": [],
   "source": [
    "#Wap to check if a number enter by user is pallindrome or not\n",
    "\n",
    "n=input('please enter the text').split()\n",
    "print(n)\n",
    "for i in n:\n",
    "    if i==i[::-1]:\n",
    "        print('pallindrome')\n",
    "    else:\n",
    "        print('nott pallindrome')"
   ]
  },
  {
   "cell_type": "code",
   "execution_count": null,
   "id": "3601e3b4",
   "metadata": {},
   "outputs": [],
   "source": [
    "#Q3.Write a function which prints the reverse of a given string using while loop. \n",
    "\n",
    "def reverse():\n",
    "    n=input('entr name')\n",
    "    i=1\n",
    "    while i<len(n):\n",
    "        r=n[::-1]\n",
    "        i=i+len(n)\n",
    "        print(r)\n",
    "\n",
    "reverse()"
   ]
  },
  {
   "cell_type": "code",
   "execution_count": 10,
   "id": "95328077",
   "metadata": {},
   "outputs": [
    {
     "data": {
      "text/plain": [
       "'#@$!%'"
      ]
     },
     "execution_count": 10,
     "metadata": {},
     "output_type": "execute_result"
    }
   ],
   "source": [
    "#WAP to print “DSFASF#@$!%324566732cadnkw” only the special chars from the given string.\n",
    "\n",
    "a='DSFASF#@$!%324566732cadnkw'\n",
    "a[6:-15]\n"
   ]
  },
  {
   "cell_type": "code",
   "execution_count": 11,
   "id": "98318333",
   "metadata": {},
   "outputs": [
    {
     "name": "stdout",
     "output_type": "stream",
     "text": [
      "#\n",
      "@\n",
      "$\n",
      "!\n",
      "%\n"
     ]
    }
   ],
   "source": [
    "#Method 2\n",
    "a='DSFASF#@$!%324566732cadnkw'\n",
    "\n",
    "for i in a:\n",
    "    if i in ('#@$!%'):\n",
    "        print(i)"
   ]
  },
  {
   "cell_type": "code",
   "execution_count": null,
   "id": "395cc344",
   "metadata": {},
   "outputs": [],
   "source": [
    "'''Q5. WAP to input multiple names , then check if the name starts with letter “a” or “A”  or not .\n",
    "If yes , print the name is lucky name , else print its ok…\n",
    "Also tell if we could change his first letter or not. \n",
    "'''\n",
    "name=input(\"Enter a string\").split()\n",
    "#print(name)\n",
    "for i in name:\n",
    "    if i[0]=='a' or i[0]=='A':\n",
    "        print(i,'lucky you are')\n",
    "        \n",
    "\n",
    "    else:\n",
    "        print(i,'its ok')\n",
    "        ask()\n",
    "        def ask():\n",
    "            n=input('could we change first letter or not.') "
   ]
  },
  {
   "cell_type": "code",
   "execution_count": null,
   "id": "ff4390f0",
   "metadata": {},
   "outputs": [],
   "source": [
    "Write a program to print like this: \n",
    "Twinkle, twinkle, little star, \n",
    "    How I wonder what you are! \n",
    "        Up above the world so high, \n",
    "        Like a diamond in the sky. \n",
    "Twinkle, twinkle, little star,\n",
    "    How I wonder what you are`"
   ]
  },
  {
   "cell_type": "code",
   "execution_count": 20,
   "id": "100b0667",
   "metadata": {},
   "outputs": [
    {
     "name": "stdout",
     "output_type": "stream",
     "text": [
      "Twinkle, twinkle, little star, \n",
      "\t How I wonder what you are! \n",
      "\t\tUp above the world so high, \n",
      "\t\tLike a diamond in the sky. \n",
      "Twinkle, twinkle, little star,\n",
      "\tHow I wonder what you are\n"
     ]
    }
   ],
   "source": [
    "print(\"Twinkle, twinkle, little star, \\n\\t How I wonder what you are! \\n\\t\\tUp above the world so high, \\n\\t\\tLike a diamond in the sky. \\nTwinkle, twinkle, little star,\\n\\tHow I wonder what you are\")"
   ]
  },
  {
   "cell_type": "code",
   "execution_count": null,
   "id": "2f26146f",
   "metadata": {},
   "outputs": [],
   "source": [
    "# how to check python system version \n",
    "\n",
    "import sys\n",
    "print(sys.version)"
   ]
  },
  {
   "cell_type": "code",
   "execution_count": null,
   "id": "711f8912",
   "metadata": {},
   "outputs": [],
   "source": [
    "# how to insert date and time \n",
    "import datetime\n",
    "now=datetime.datetime.now()\n",
    "print(now.strftime(\"%y-%m-%d %H:%M:%S\"))"
   ]
  },
  {
   "cell_type": "code",
   "execution_count": null,
   "id": "3bb74112",
   "metadata": {},
   "outputs": [],
   "source": [
    "\n",
    "#take two input from the regarding the amount deposited in accoint then i need update ,my netbalanceb\n",
    "cash=10000\n",
    "deam=float(input(\"enter deposit your amount\"))\n",
    "wam=float(input(\"enter your withdraw  amount\"))\n",
    "fam=cash-wam\n",
    "addaccount=cash+deam\n",
    "fam\n",
    "addaccount"
   ]
  },
  {
   "cell_type": "code",
   "execution_count": null,
   "id": "74db7c99",
   "metadata": {},
   "outputs": [],
   "source": [
    "a=int(input(\"1st: \"))\n",
    "b=int(input(\"2nd: \"))\n",
    "if a>b:\n",
    "    print(\"a is largest\")\n",
    "elif a<b:\n",
    "    print(\"b is largest\")\n",
    "else:\n",
    "    print(\"a and b are equal\")\n",
    "    "
   ]
  },
  {
   "cell_type": "code",
   "execution_count": null,
   "id": "a2ef1dd5",
   "metadata": {},
   "outputs": [],
   "source": [
    "w=input(\"enter the whether\")\n",
    "if w==\"rainy\":\n",
    "    print(\"i will not play\")\n",
    "elif w==\"sunny\":\n",
    "    print(\"i will play\")\n",
    "elif w==\"cold\":\n",
    "    print(\"i can play\")\n",
    "elif w==\"stormy\":\n",
    "    print(\"i will back\")"
   ]
  },
  {
   "cell_type": "code",
   "execution_count": null,
   "id": "7c766bfa",
   "metadata": {},
   "outputs": [],
   "source": [
    "#write a program to take input from the user and check if the number is div by 3 , by 5, or by 3 and 5 both\n",
    "n=int(input(\"enter a num\"))\n",
    "if(n%3==0 and n%5==0):\n",
    "    print(\"n is divisble by both 3 & 5\")\n",
    "elif(n%3==0):\n",
    "    print(\"n is divisble by 3\")\n",
    "elif(n%5==0):\n",
    "    print(\"n is divisble by 5 \")\n"
   ]
  },
  {
   "cell_type": "code",
   "execution_count": null,
   "id": "14524bb9",
   "metadata": {},
   "outputs": [],
   "source": [
    "#q. wap to take a number n and find even or odd\n",
    "n=int(input(\"enter a num\"))\n",
    "if(n%2==0):\n",
    "    print(n, \" is even\")\n",
    "else:\n",
    "    print(n, \" is odd\")"
   ]
  },
  {
   "cell_type": "code",
   "execution_count": null,
   "id": "67c4261d",
   "metadata": {},
   "outputs": [],
   "source": [
    "'''\n",
    "Wap to take input from the user regarding the meal he had yesterday, \n",
    "if it south indian, print rombanala,\n",
    "if it is  punjabi, print vadiya haigi\n",
    "if it is odiya, print bhala_heichi\n",
    "'''\n",
    "m=input(\"please enter meal\")\n",
    "if m==\"southindian\":\n",
    "    print(\"rombala\")\n",
    "elif m==\"punjabi\":\n",
    "    print(\"vadiya haichi\")\n",
    "elif m==\"odiya\":\n",
    "    print(\"bhala_heichi\")"
   ]
  },
  {
   "cell_type": "code",
   "execution_count": null,
   "id": "c83fc0c2",
   "metadata": {},
   "outputs": [],
   "source": [
    "\"\"\" \n",
    "\n",
    "In the tutorial, we talked about deciding whether we're prepared for the weather. \n",
    "I said that I'm safe from today's weather if...\n",
    "\n",
    "I have an umbrella...\n",
    "or if the rain isn't too heavy and I have a hood...\n",
    "otherwise, I'm still fine unless it's raining and it's a workday\n",
    "\n",
    "\"\"\"\n",
    "\n",
    "    \n",
    "rain_type= input(\"enter the type of rain heavy or slow\")\n",
    "#umb= input(\"yes or no\")\n",
    "#wd=input(\"yes or no\")\n",
    "if wd==\"yes\":\n",
    "    if rain_type==\"heavey\":\n",
    "        if umb==\"yes\":\n",
    "            print(\"safe\")\n",
    "        else:\n",
    "            print(\"not safe\")\n",
    "    elif rain_type==\"slow\":\n",
    "        if hood==\"yes\":\n",
    "            print(\"safe\")\n",
    "else: print(\"stay back\")"
   ]
  },
  {
   "cell_type": "code",
   "execution_count": null,
   "id": "51006eed",
   "metadata": {},
   "outputs": [],
   "source": [
    "Wap to check the students eligibilty for sports captain:\n",
    "    1)both males and females should be considered if the followed the condition\n",
    "     1. he or she should be students of class 9 and above.\n",
    "        2. atleast 2 achievement in the feild of sports\n",
    "        3. have grade in last class greatr than B+\n",
    "        4. should have exp of leading a team of students\n",
    "        5. he/she should be staying somewhere near school only , and shhould check on condition of kits , \n",
    "        [playground and decide teams for various others sports "
   ]
  },
  {
   "cell_type": "code",
   "execution_count": null,
   "id": "06c592c0",
   "metadata": {},
   "outputs": [],
   "source": [
    "clas=int(input(\"enter the class\"))\n",
    "acheive=int(input(\"atleast 2 acheivement\"))\n",
    "grade= input(\"please enter grade must be greater than B+\")\n",
    "exp=input(\" experience yes or no\")\n",
    "home=input(\"Home is near yes or not\")\n",
    "#check=input(\"Yes or No\")\n",
    "\n",
    "\n",
    "if clas>=9 and acheive==\"2\" and (grade==\"A\" or grade== \"A+\") and exp==\"yes\" and home==\"yes\" :#and check==\"yes\":\n",
    "    \n",
    "    print(\"captain\")\n",
    "else:\n",
    "    print(\"not eligible\")"
   ]
  },
  {
   "cell_type": "code",
   "execution_count": null,
   "id": "7a8f01d6",
   "metadata": {},
   "outputs": [],
   "source": [
    "#in the range 1 -20 if even then print sqare and if odd then print cube\n",
    "\n",
    "for i in range(1,21):\n",
    "    if i%2==0:\n",
    "        print(i**2)\n",
    "    else:\n",
    "        print(i**3)\n",
    "        "
   ]
  },
  {
   "cell_type": "code",
   "execution_count": null,
   "id": "a16a7654",
   "metadata": {},
   "outputs": [],
   "source": [
    "# wap to print all the factors of enter by the user\n",
    "\n",
    "n=int(input(\"enter a num\"))\n",
    "for i in range(1,n+1):\n",
    "    if n%i==0:\n",
    "        print(i)"
   ]
  },
  {
   "cell_type": "code",
   "execution_count": null,
   "id": "d9471032",
   "metadata": {},
   "outputs": [],
   "source": [
    "#how we can print the number of loops in for loop\n",
    "\n",
    "c=0\n",
    "l=[12,34,56,78,34,11,89]\n",
    "for i in l:\n",
    "    c=c+1\n",
    "print(c)"
   ]
  },
  {
   "cell_type": "code",
   "execution_count": null,
   "id": "1225a40d",
   "metadata": {},
   "outputs": [],
   "source": [
    "#how to sum list by loop\n",
    "l=[12,34,56,78,34,11,89]\n",
    "s=0\n",
    "for i in l:\n",
    "    s=s+i\n",
    "print(s)"
   ]
  },
  {
   "cell_type": "code",
   "execution_count": null,
   "id": "bc54854a",
   "metadata": {},
   "outputs": [],
   "source": [
    "# wap to find vowels and consonants in a given string:\n",
    "s= \"the cat is eating mice \"\n",
    "\n",
    "for i in s:\n",
    "    if i=='a' or i=='e' or i=='i' or i=='o' or i=='u':\n",
    "        print(i,\" vowels\")\n",
    "    elif i!=\" \":\n",
    "        print(i, 'constant')"
   ]
  },
  {
   "cell_type": "code",
   "execution_count": null,
   "id": "d112f48b",
   "metadata": {},
   "outputs": [],
   "source": [
    "#wap to count the number of vowels and constant\n",
    "s= \"thecatiseatingmice\"\n",
    "v,c=0,0\n",
    "for i in s:\n",
    "    if i=='a' or i=='e' or i=='i' or i=='o' or i=='u':\n",
    "        v=v+1\n",
    "    elif i!=\" \":\n",
    "        c=c+1\n",
    "print(v,c)"
   ]
  },
  {
   "cell_type": "code",
   "execution_count": null,
   "id": "4d59d4e9",
   "metadata": {},
   "outputs": [],
   "source": [
    "# wap to find the number is prime or composite\n",
    "n=int(input(\"please enter a number\"))\n",
    "c=0\n",
    "for i in range(1,n+1):\n",
    "    if n%i==0:\n",
    "        c=c+1\n",
    "print(c,  \"is factors of\",n)  \n",
    "\n",
    "if c>2:\n",
    "    print(n, \"this is composite\")\n",
    "else:\n",
    "    print(\"Prime number: \")"
   ]
  },
  {
   "cell_type": "code",
   "execution_count": null,
   "id": "867f671a",
   "metadata": {},
   "outputs": [],
   "source": [
    "\"\"\"wap to print fizz if the number is divisible by 3, buzz if the no. is divisible by 5 and fizzbuzz \n",
    "if the no is div by both in range of 1 to 50 both inclusive\"\"\"\n",
    "\n",
    "\n",
    "#n=int(input(\"enter a number\"))\n",
    "\n",
    "for i in range(1,51,1):\n",
    "    if i%3==0 and i%5==0:\n",
    "        print('fizbuz',i)\n",
    "    if i%3==0:\n",
    "         print('fizz',i)\n",
    "    elif i%5==0:\n",
    "         print('buzz',i)"
   ]
  },
  {
   "cell_type": "code",
   "execution_count": null,
   "id": "bc97e5af",
   "metadata": {},
   "outputs": [],
   "source": [
    "#inter the number to calculate factorial\n",
    "n=int(input(\"enter a number\"))\n",
    "c=1\n",
    "for i in range (1,n+1):\n",
    "    c=c*i\n",
    "print(c,\"factors\")\n",
    "    "
   ]
  },
  {
   "cell_type": "code",
   "execution_count": null,
   "id": "68ef54ad",
   "metadata": {},
   "outputs": [],
   "source": [
    "# fabbonacci series\n",
    "a=0\n",
    "b=1\n",
    "z=0\n",
    "for i in range(1,11):\n",
    "    c=a\n",
    "    a=b\n",
    "    b=a+c\n",
    "    print(c,\" \",end=\"\")\n",
    "    "
   ]
  },
  {
   "cell_type": "code",
   "execution_count": null,
   "id": "95484a42",
   "metadata": {},
   "outputs": [],
   "source": [
    "#print a table enter by user \n",
    "\n",
    "n=int(input(\"number\"))\n",
    "i=0\n",
    "while i<10:\n",
    "    i=i+1\n",
    "    print(n*i)"
   ]
  },
  {
   "cell_type": "code",
   "execution_count": null,
   "id": "b2d733db",
   "metadata": {},
   "outputs": [],
   "source": [
    "#print a table  in reverse enter by user\n",
    "\n",
    "n=int(input(\"number\"))\n",
    "i=10\n",
    "while i>0:\n",
    "    print(i*n)\n",
    "    i=i-1"
   ]
  },
  {
   "cell_type": "code",
   "execution_count": null,
   "id": "10551807",
   "metadata": {},
   "outputs": [],
   "source": [
    "#print a table from (6 to 2) in reverse order\n",
    "\n",
    "for i in range(6,1,-1):\n",
    "    j=10\n",
    "    while j>0:\n",
    "        print(i*j)\n",
    "        j=j-1\n",
    "    print(\"******\")"
   ]
  },
  {
   "cell_type": "code",
   "execution_count": null,
   "id": "b5c438d7",
   "metadata": {},
   "outputs": [],
   "source": [
    "#wap to take numbers from range 1to 10 print their sqaure except 3,9\n",
    "\n",
    "i=1\n",
    "while i<10:\n",
    "    \n",
    "    if i==3 or i==9:\n",
    "        i=i+1\n",
    "        continue\n",
    "        \n",
    "    else:\n",
    "        print(i**2)\n",
    "        i=i+1"
   ]
  },
  {
   "cell_type": "code",
   "execution_count": null,
   "id": "14c2241c",
   "metadata": {},
   "outputs": [],
   "source": [
    "#print(10,30) range odd and even number\n",
    "i=10\n",
    "o=0\n",
    "e=0\n",
    "while i<30:\n",
    "    i=i+1\n",
    "    \n",
    "    if i%2==0:\n",
    "        print(i,'is even')\n",
    "        o=o+1\n",
    "        \n",
    "    else:\n",
    "        print(i,' is odd')\n",
    "        e=e+1\n",
    "print(e)\n",
    "print(o)"
   ]
  },
  {
   "cell_type": "code",
   "execution_count": null,
   "id": "5975fcda",
   "metadata": {},
   "outputs": [],
   "source": [
    "#The \"while true\" loop in python runs without any conditions until the break statement executes inside the loop\n",
    "\n",
    "\n",
    "# while true \n",
    "\n",
    "'''wap to take input from username and password and if user try more than 3 times to enter ,then loop will break \n",
    "and print you have try more than 3 times'''\n",
    "\n",
    "c=0\n",
    "while True:\n",
    "    username=input('enter a username')\n",
    "    password=input('entr the password')\n",
    "    \n",
    "    if username=='arif' and password=='arif':\n",
    "        print('welcome')\n",
    "        break\n",
    "    \n",
    "    else:\n",
    "        c=c+1\n",
    "        print('enter again')\n",
    "        if c==3:\n",
    "            print('too many times try')\n",
    "            break\n",
    "        "
   ]
  },
  {
   "cell_type": "code",
   "execution_count": null,
   "id": "fa085630",
   "metadata": {},
   "outputs": [],
   "source": [
    "'''#wap to print the number if it is ending with 5 or 0 if it is not divided by 3 and check if the result id divisible by 2\n",
    "if yes break loop if no continue'''\n",
    "\n",
    "while True:\n",
    "    n=int(input('entr the number'))\n",
    "        if n%3==0 or n%2==0:\n",
    "            break\n",
    "else:\n",
    "    print('entr again')\n"
   ]
  },
  {
   "cell_type": "code",
   "execution_count": null,
   "id": "af16a24d",
   "metadata": {},
   "outputs": [],
   "source": [
    "guess_number='0'\n",
    "secret_number='7'\n",
    "\n",
    "while True:\n",
    "    guess_number=input('guess the number 1 to 7:')\n",
    "    if guess_number==secret_number:\n",
    "        print('yes guess number is correct')\n",
    "        break\n",
    "    else:\n",
    "        print('guess number is incorrect')"
   ]
  },
  {
   "cell_type": "code",
   "execution_count": null,
   "id": "6b3327c9",
   "metadata": {},
   "outputs": [],
   "source": [
    "#wap to find the grade of students by taking marks.\n",
    "def marks(math,hin,eng,urdu,sci):\n",
    "    mark=math+hin+eng+urdu+sci\n",
    "    if mark>300:\n",
    "        print('A')\n",
    "    elif mark>250:\n",
    "        print('B')\n",
    "    elif mark>180:\n",
    "        print('C')\n",
    "        \n",
    "marks(29,89,86,89,86)"
   ]
  },
  {
   "cell_type": "code",
   "execution_count": null,
   "id": "90a0b63a",
   "metadata": {},
   "outputs": [],
   "source": [
    "#wa function to greet people with good morning if thier name has a in it. else greet hello .take input from user\n",
    "#regarding the people\n",
    "\n",
    "def greet():\n",
    "    n=input('enter a name ').split( )\n",
    "    for i in n:\n",
    "        if 'a' in i:\n",
    "            print('good morning',i)\n",
    "        else:\n",
    "            print('hello',i)\n",
    "greet()"
   ]
  },
  {
   "cell_type": "code",
   "execution_count": null,
   "id": "75aee120",
   "metadata": {},
   "outputs": [],
   "source": [
    "#wa function to calculate factorial using while loop:\n",
    "\n",
    "def fact():\n",
    "    n=int(input('please enter the num'))\n",
    "    \n",
    "    i=0\n",
    "    f=1\n",
    "    while i<n:\n",
    "        i+=1\n",
    "        f=f*i\n",
    "       \n",
    "    return f\n",
    "fact()"
   ]
  },
  {
   "cell_type": "code",
   "execution_count": null,
   "id": "cc5043c8",
   "metadata": {},
   "outputs": [],
   "source": [
    "# 1. Write a Python function to find the Max of three numbers. \n",
    "\n",
    "def max_number(a,b,c):\n",
    "    if a>b and a>c:\n",
    "        print(a,'is gretaer')\n",
    "    elif b>c and b>a:\n",
    "        print(b,'is greater')\n",
    "    elif c>a and c>b:\n",
    "        print(c,'is greater')\n",
    "        \n",
    "max_number(89,100,8)"
   ]
  },
  {
   "cell_type": "code",
   "execution_count": null,
   "id": "7d4460ef",
   "metadata": {},
   "outputs": [],
   "source": [
    "''' 10. Write a Python function program to print the even numbers from a given list. Go to the editor\n",
    "Sample List : [1, 2, 3, 4, 5, 6, 7, 8, 9] '''\n",
    "\n",
    "#method 1\n",
    "\n",
    "l=[1,2,3,4,5,6,7,8,9]\n",
    "\n",
    "def even():\n",
    "    for i in l:\n",
    "        if i%2==0:\n",
    "            print(i)\n",
    "        \n",
    "even()"
   ]
  },
  {
   "cell_type": "code",
   "execution_count": null,
   "id": "0e857404",
   "metadata": {},
   "outputs": [],
   "source": [
    "'''wap to enter a password and check if it is a valid password or not \n",
    "1.length of password should be 10 or more\n",
    "2.atleast 1 uppercase\n",
    "3.atleast 1 lowecase\n",
    "3.atleast 1 digit\n",
    "4.atleast 1 special character\n",
    "'''\n",
    "\n",
    "p=input('entr a password')\n",
    "l,u,d,sp= 0,0,0,0\n",
    "for i in p:\n",
    "    if i.islower():\n",
    "        l=l+1\n",
    "    elif i.isupper():\n",
    "        u=u+1\n",
    "    elif i.isdigit():\n",
    "        d=d+1\n",
    "    else:\n",
    "        sp=sp+1\n",
    "print(l,u,d,sp)\n",
    "if l>0 and u>0 and d>0 and sp>0 and len(p)>=10:\n",
    "    print(\"password is valid\")\n",
    "else: \n",
    "    print(\"try again!!!\")\n",
    "    "
   ]
  },
  {
   "cell_type": "code",
   "execution_count": null,
   "id": "22c6f478",
   "metadata": {},
   "outputs": [],
   "source": [
    "'''age={\"golu\":34,\"molu\":44,\"ela\":23,\"bholu\":56,\"jenny\":26,\"wasim\":67}\n",
    "print the person old if his age is greater than 40,\n",
    "if it is less than 40, have to print as young'''\n",
    "\n",
    "age={\"golu\":34,\"molu\":44,\"ela\":23,\"bholu\":56,\"jenny\":26,\"wasim\":67}\n",
    "\n",
    "for i,j in age.items():\n",
    "    if i in j>40:\n",
    "        print('old')\n",
    "    elif i<40:\n",
    "        print('young')\n",
    "    #print (i,\":\",j)"
   ]
  },
  {
   "cell_type": "code",
   "execution_count": null,
   "id": "829ff246",
   "metadata": {},
   "outputs": [],
   "source": [
    "# wap to create sports.txt and add five sports personalities \n",
    "file=open(\"sports.text\",\"x\")\n",
    "file.write(\"sachin,rahul,dravid,govind,pawan\")"
   ]
  },
  {
   "cell_type": "code",
   "execution_count": null,
   "id": "188efe99",
   "metadata": {},
   "outputs": [],
   "source": [
    "file=open('sport.text',\"r\")\n",
    "file.read()"
   ]
  },
  {
   "cell_type": "code",
   "execution_count": null,
   "id": "d1b60287",
   "metadata": {},
   "outputs": [],
   "source": [
    "'''wap to create two files one will be the game and other file will be the sports personality playing and print the \n",
    "corressponding game with personality name in  a dictionary'''\n",
    "\n",
    "with open(\"game.txt\",\"x\") as f:\n",
    "    f.write(\"cricket\\nfootball\\nbadminton\\ntennis\\n\")\n",
    "    \n",
    "with open (\"person.txt\",\"x\") as f:\n",
    "    f.write(\"sachin\\nronaldo\\nsindhu\\nadal\\n\")\n",
    "    \n",
    "with open(\"game.txt\") as f:\n",
    "    game=f.readlines()\n",
    "with open(\"person.txt\") as file:\n",
    "    person=file.readlines()\n",
    "    \n",
    "    print(game)\n",
    "    print(person)\n",
    "    \n",
    "dict(zip(game,person))"
   ]
  },
  {
   "cell_type": "code",
   "execution_count": null,
   "id": "16928118",
   "metadata": {},
   "outputs": [],
   "source": [
    "#parametarised constructor\n",
    "class car:\n",
    "    car_type='sedan'\n",
    "    def __init__(self,color,mileage,ts,ft):\n",
    "        self.color=color\n",
    "        self.mileage=mileage\n",
    "        self.ts=ts\n",
    "        self.ft=ft\n",
    "    def describe(self):\n",
    "         print(f\"the sedan of {self.color} is having {self.mileage} km/hr and top speed is {self.ts}, also it is {self.ft} car\")\n",
    "c=car('black',14,150,'petrol')\n",
    "#print(c.color,c.mileage,c.ts,c.ft,c.car_type)\n",
    "\n",
    "c.describe()"
   ]
  },
  {
   "cell_type": "code",
   "execution_count": null,
   "id": "9fcecd1e",
   "metadata": {},
   "outputs": [],
   "source": [
    "'''wac employee, add a construtor to it take the details of employeee as name,id,department,gender,email,phone number, \n",
    "write\n",
    "a method to show the details of employee,and create an object to access the details of the employeee;'''\n",
    "\n",
    "class employee:\n",
    "    def __init__(self,eid,name,department,gender,email,phonenumber):\n",
    "        details.eid=eid\n",
    "        details.name=name\n",
    "        details.department=department\n",
    "        details.gender=gender\n",
    "        details.email=email\n",
    "        details.phonenumber=phonenumber\n",
    "        \n",
    "    def details(self):\n",
    "        print(f\"{self.eid}{self.name}{self.department}{self.gender}{self.email}{self.phonenumber}\")\n",
    "        \n",
    "e=employee(2,'arif','it','m','dd@gmail',908939939)   \n",
    "#print(e.id,e.name,e.department,e.gender,e.email,e.phonenumber) \n",
    "e.details()"
   ]
  },
  {
   "cell_type": "code",
   "execution_count": null,
   "id": "ff02a83d",
   "metadata": {},
   "outputs": [],
   "source": [
    "'''define a class vehicle, define constructor of the class, take instance variable as wheelerof veh, type of wheeler\n",
    "petrol ,deisel or electric. define a method of the class to print the details of the vehicle also defined a method sitting\n",
    "capacity, and if the wheeler is two - sitting capacity should be printed as 2 if whheler is 3 sitting capacity should be 3 \n",
    "and if it four , ask user whether its a car ,bus if its a car print 6, if its is bus say 50.\n",
    "'''\n",
    "\n",
    "class vehicle:\n",
    "    def __init__(self,wheeler,wheelertype):\n",
    "        self.wheeler=wheeler\n",
    "        self.wheelertype=wheelertype\n",
    "    def details(self):\n",
    "            print(f\"the wheeler of the vehicle is {self.wheeler}and it is a,{self.wheelertype} vehicle\")\n",
    "    def scapacity(self):\n",
    "        if self.wheeler==2:\n",
    "            print('sitting cap is 2')\n",
    "        elif self.wheeler==3:\n",
    "            print('sitting cap is 2')\n",
    "        elif self.wheeler==4:\n",
    "            ask=input('bus or car:')\n",
    "            if ask=='car':\n",
    "                print('sitting cap is 6')\n",
    "            else:\n",
    "                print('sitting cap is 50')\n",
    "        \n",
    "        \n",
    "v=vehicle(int(input('enter the wheeler:')),input('fuel type:'))\n",
    "v.details()\n",
    "\n",
    "v.scapacity()"
   ]
  },
  {
   "cell_type": "code",
   "execution_count": null,
   "id": "7a5ccd95",
   "metadata": {},
   "outputs": [],
   "source": [
    "# inheritance\n",
    "\n",
    "class person:\n",
    "    def __init__(self,fname,lname):\n",
    "        self.fname=fname\n",
    "        self.lname=lname\n",
    "    def printname(self):\n",
    "        print(self.fname,self.lname)\n",
    "class employee(person):\n",
    "    def __init__(self,fname,lname,empid):\n",
    "        self.empid=empid\n",
    "        person.__init__(self,fname,lname)\n",
    "    def details(self):\n",
    "        print(f\" the{self.fname}{self.lname} is having empid {self.empid}\")\n",
    "        \n",
    "emp=employee(\"ankit\",\"singh\",\"11002\")\n",
    "emp.printname()\n",
    "emp.fname\n",
    "emp.lname\n",
    "emp.details()"
   ]
  },
  {
   "cell_type": "code",
   "execution_count": null,
   "id": "94504755",
   "metadata": {},
   "outputs": [],
   "source": [
    "'''wac mammals ,initialize three properties of mammals,have hair,have backbone, birth younger ones(viviparous) ,\n",
    "write  a child class monkey, and print that it has fur or hair, have backbone and they are viviparous.\n",
    "'''\n",
    "\n",
    "class mammals:\n",
    "    def __init__(self):\n",
    "        self.hair=hair\n",
    "        self.backbone=backbone\n",
    "        self.youngerones=youngerones\n",
    "    def printname(self):\n",
    "        print(self.hair,self.backbone,self.youngerones)\n",
    "class monkey:\n",
    "    def __init__(self,hair,backbone,youngerones):\n",
    "        self.empid=empid\n",
    "        person.__init__(self,fname,lname)\n",
    "    def details(self):\n",
    "        print(f\" the{self.fname}{self.lname} is having empid {self.empid}\")"
   ]
  },
  {
   "cell_type": "code",
   "execution_count": null,
   "id": "752576f7",
   "metadata": {},
   "outputs": [],
   "source": [
    "'''wap to take two numbers and divide it, until unless we do try correct , the program should ask for rigth inputs of the \n",
    "numbers\n",
    "'''\n",
    "while True:\n",
    "    try:\n",
    "        a=int(input('entr num1'))\n",
    "        b=int(input('entr num2'))\n",
    "        print('the sum of a+b is',a+b)\n",
    "    except:\n",
    "        print('except will be execute')\n",
    "        a=int(input('entr num1'))\n",
    "        b=int(input('entr num2'))\n",
    "        print('the sum of a+b is',a+b)\n",
    "    else:\n",
    "            print(c)\n",
    "            break"
   ]
  },
  {
   "cell_type": "code",
   "execution_count": null,
   "id": "b16091f3",
   "metadata": {},
   "outputs": [],
   "source": [
    "# print the sqaure from 1 to 20\n",
    "for i in range(1,21):\n",
    "    print(i*i)"
   ]
  },
  {
   "cell_type": "code",
   "execution_count": null,
   "id": "774408ca",
   "metadata": {},
   "outputs": [],
   "source": [
    "# print a table in reverse\n",
    "n=int(input(\"enter a number : for table\"))\n",
    "for i in range(10,0,-1):\n",
    "    print(n*i)"
   ]
  },
  {
   "cell_type": "code",
   "execution_count": null,
   "id": "9b059d6b",
   "metadata": {},
   "outputs": [],
   "source": [
    "w=input(\"enter a temperature\")\n",
    "if w==\"sunny\":\n",
    "    temp=int(input(\"entr the temperature\"))\n",
    "    if temp<45:\n",
    "        print(\"play\")\n",
    "    else:\n",
    "        print(\"too hot\")"
   ]
  },
  {
   "cell_type": "code",
   "execution_count": null,
   "id": "d0b1dd34",
   "metadata": {},
   "outputs": [],
   "source": [
    "# wap to do exception handling of zero div error, i.e divide a number with 0 and handle that eror.\n",
    "try:\n",
    "    \n",
    "    a=input('entr a num')\n",
    "    c=a/0\n",
    "    print(c)\n",
    "except:\n",
    "    print('except will be executed')\n",
    "    a=int(input('num'))\n",
    "    c=0/a\n",
    "    print(c)"
   ]
  },
  {
   "cell_type": "code",
   "execution_count": null,
   "id": "83adb0ee",
   "metadata": {},
   "outputs": [],
   "source": [
    "guess_number='0'\n",
    "secret_number='7'\n",
    "\n",
    "if True:\n",
    "    guess_number=input('guess the number 1 to 7:')\n",
    "    if guess_number==secret_number:\n",
    "        print('yes guess number is correct')\n",
    "        \n",
    "    else:\n",
    "        print('guess number is incorrect')"
   ]
  },
  {
   "cell_type": "code",
   "execution_count": null,
   "id": "9cfe8689",
   "metadata": {},
   "outputs": [],
   "source": []
  }
 ],
 "metadata": {
  "kernelspec": {
   "display_name": "Python 3 (ipykernel)",
   "language": "python",
   "name": "python3"
  },
  "language_info": {
   "codemirror_mode": {
    "name": "ipython",
    "version": 3
   },
   "file_extension": ".py",
   "mimetype": "text/x-python",
   "name": "python",
   "nbconvert_exporter": "python",
   "pygments_lexer": "ipython3",
   "version": "3.9.7"
  }
 },
 "nbformat": 4,
 "nbformat_minor": 5
}
